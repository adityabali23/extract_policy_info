{
  "nbformat": 4,
  "nbformat_minor": 0,
  "metadata": {
    "colab": {
      "provenance": []
    },
    "kernelspec": {
      "name": "python3",
      "display_name": "Python 3"
    },
    "language_info": {
      "name": "python"
    }
  },
  "cells": [
    {
      "cell_type": "code",
      "execution_count": 2,
      "metadata": {
        "colab": {
          "base_uri": "https://localhost:8080/",
          "height": 383
        },
        "id": "FYvD1EGZ93he",
        "outputId": "a4ef2975-4a59-4508-f947-b7b45b2a15d5"
      },
      "outputs": [
        {
          "output_type": "error",
          "ename": "ModuleNotFoundError",
          "evalue": "No module named 'PyPDF2'",
          "traceback": [
            "\u001b[0;31m---------------------------------------------------------------------------\u001b[0m",
            "\u001b[0;31mModuleNotFoundError\u001b[0m                       Traceback (most recent call last)",
            "\u001b[0;32m<ipython-input-2-186b9a74add2>\u001b[0m in \u001b[0;36m<cell line: 0>\u001b[0;34m()\u001b[0m\n\u001b[0;32m----> 1\u001b[0;31m \u001b[0;32mfrom\u001b[0m \u001b[0mPyPDF2\u001b[0m \u001b[0;32mimport\u001b[0m \u001b[0mPdfReader\u001b[0m\u001b[0;34m\u001b[0m\u001b[0;34m\u001b[0m\u001b[0m\n\u001b[0m\u001b[1;32m      2\u001b[0m \u001b[0;32mimport\u001b[0m \u001b[0mre\u001b[0m\u001b[0;34m\u001b[0m\u001b[0;34m\u001b[0m\u001b[0m\n\u001b[1;32m      3\u001b[0m \u001b[0;34m\u001b[0m\u001b[0m\n\u001b[1;32m      4\u001b[0m \u001b[0;32mimport\u001b[0m \u001b[0mpandas\u001b[0m \u001b[0;32mas\u001b[0m \u001b[0mpd\u001b[0m\u001b[0;34m\u001b[0m\u001b[0;34m\u001b[0m\u001b[0m\n\u001b[1;32m      5\u001b[0m \u001b[0;34m\u001b[0m\u001b[0m\n",
            "\u001b[0;31mModuleNotFoundError\u001b[0m: No module named 'PyPDF2'",
            "",
            "\u001b[0;31m---------------------------------------------------------------------------\u001b[0;32m\nNOTE: If your import is failing due to a missing package, you can\nmanually install dependencies using either !pip or !apt.\n\nTo view examples of installing some common dependencies, click the\n\"Open Examples\" button below.\n\u001b[0;31m---------------------------------------------------------------------------\u001b[0m\n"
          ],
          "errorDetails": {
            "actions": [
              {
                "action": "open_url",
                "actionText": "Open Examples",
                "url": "/notebooks/snippets/importing_libraries.ipynb"
              }
            ]
          }
        }
      ],
      "source": [
        "from PyPDF2 import PdfReader\n",
        "import re\n",
        "\n",
        "import pandas as pd\n",
        "\n",
        "# Function to extract all text from a PDF\n",
        "def extract_text_from_pdf(pdf_path):\n",
        "    try:\n",
        "        # Load the PDF\n",
        "        reader = PdfReader(pdf_path)\n",
        "\n",
        "        # Extract text from each page\n",
        "        all_text = \"\"\n",
        "        for page in reader.pages:\n",
        "            all_text += page.extract_text() + \"\\n\"\n",
        "\n",
        "        return all_text\n",
        "\n",
        "    except Exception as e:\n",
        "        print(f\"An error occurred: {e}\")\n",
        "        return None\n",
        "\n",
        "# Provide the path to your PDF file\n",
        "pdf_path = \"policy.pdf\"  # Replace with the path to your PDF\n",
        "\n",
        "# Extract and print the text\n",
        "text = extract_text_from_pdf(pdf_path)\n",
        "#if text:\n",
        "#    print(text)\n",
        "\n",
        "\n",
        "\n",
        "# Function to extract specific details from the extracted text\n",
        "def extract_policy_details(text):\n",
        "    details = {}\n",
        "\n",
        "    try:\n",
        "        # Extract Period of Insurance (Start and End Dates)\n",
        "        #period_insurance_match = re.search(r\"Period of Insurance:\\s*From:\\s*(\\d{2}/\\d{2}/\\d{4})\\s*to:\\s*(\\d{2}/\\d{2}/\\d{4})\", text)\n",
        "        #if period_insurance_match:\n",
        "        #    details['Period of Insurance Start'] = period_insurance_match.group(1)\n",
        "         #   details['Period of Insurance End'] = period_insurance_match.group(2)\n",
        "\n",
        "        # Extract Policy Expiry Date\n",
        "        #expiry_match = re.search(r\"Policy Expiry Date:\\s*(\\d{2}/\\d{2}/\\d{4})\", text)\n",
        "        #if expiry_match:\n",
        "         #   details['Policy Expiry'] = expiry_match.group(1)\n",
        "\n",
        "        name = re.search(r'Name:\\s*\\.\\s*(.*)', text)\n",
        "        if name:\n",
        "            details['name'] = name.group(1)\n",
        "\n",
        "        # Extract Policy Number\n",
        "        policy_number_match = re.search(r\"Policy Number\\s*(\\d+)\", text)\n",
        "        if policy_number_match:\n",
        "            details['Policy Number'] = policy_number_match.group(1)\n",
        "\n",
        "        # Extract Policy Start Date\n",
        "        policy_start_date_match = re.search(r\"Policy Start Date\\s*(\\d{2}/\\d{2}/\\d{4})\", text)\n",
        "        if policy_start_date_match:\n",
        "            details['Policy Start Date'] = policy_start_date_match.group(1)\n",
        "\n",
        "        # Extract Policy End Date\n",
        "        policy_end_date_match = re.search(r\"Policy End Date\\s*(\\d{2}/\\d{2}/\\d{4})\", text)\n",
        "        if policy_end_date_match:\n",
        "            details['Policy End Date'] = policy_end_date_match.group(1)\n",
        "\n",
        "        # Extract NCB (No Claim Bonus)\n",
        "        ncb_match = re.search(r'No Claim Bonus Percent\\s*(\\d+%)\\s*([\\d,\\.]+)', text)\n",
        "        if ncb_match:\n",
        "            details['NCB'] = ncb_match.group(1)\n",
        "\n",
        "        # Extract Zero Depreciation Cover\n",
        "        zero_dep_match = re.search(r\"Depreciation Cover\\s*.*?No. Of Claims:\\s*(\\d+)\", text, re.DOTALL)\n",
        "        if zero_dep_match:\n",
        "            details['Zero Depreciation'] = zero_dep_match.group(1)\n",
        "\n",
        "        # Extract Insured Declared Value (IDV)\n",
        "        idv_match = re.search(r'Total Value of the Vehicle\\s*\\(in ₹\\)\\s*([\\d,]+)', text)\n",
        "        if idv_match:\n",
        "            details['IDV'] = idv_match.group(1)\n",
        "\n",
        "        # Extract Net Premium\n",
        "        premium_match = re.search(r\"Total Own Damage Premium\\s*(\\d{1,3}(?:,\\d{3})*\\.\\d{2})\", text)\n",
        "        if premium_match:\n",
        "            details['Premium Net'] = premium_match.group(1)\n",
        "\n",
        "        # Extract GST\n",
        "        gst_match = re.search(r\"CGST @ \\d+%\\s*(\\d{1,3}(?:,\\d{3})*\\.\\d{2})\", text)\n",
        "        if gst_match:\n",
        "            details['GST'] = gst_match.group(1)\n",
        "\n",
        "        return details\n",
        "\n",
        "    except Exception as e:\n",
        "        print(f\"An error occurred: {e}\")\n",
        "        return None\n",
        "\n",
        "\n",
        "\n",
        "# Extract the details\n",
        "details = extract_policy_details(text)\n",
        "\n",
        "# Save the details to an Excel file\n",
        "if details:\n",
        "    # Convert the dictionary to a pandas DataFrame\n",
        "    df = pd.DataFrame([details])\n",
        "\n",
        "    # Save to an Excel file\n",
        "    output_path = \"policy_details.xlsx\"\n",
        "    df.to_excel(output_path, index=False)\n",
        "\n",
        "    print(f\"Details saved to {output_path}\")\n",
        "\n",
        "\n"
      ]
    },
    {
      "cell_type": "code",
      "source": [],
      "metadata": {
        "id": "C51qpt_s94Qd"
      },
      "execution_count": null,
      "outputs": []
    }
  ]
}